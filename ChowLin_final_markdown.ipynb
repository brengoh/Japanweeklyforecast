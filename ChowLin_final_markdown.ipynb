{
 "cells": [
  {
   "cell_type": "markdown",
   "id": "5189ba26-f302-4aac-82cb-d89c4eee7e54",
   "metadata": {},
   "source": [
    "## Disaggregation of Monthly Tourism Arrivals to Weekly\n",
    "#### We aim to disaggregate monthly arrivals to weekly by shaping it with a proxy trend data retrieved from Google and also a bump if there is a public holiday that week\n",
    "\n",
    "#### 1. Loading and Cleaning the dataset"
   ]
  },
  {
   "cell_type": "code",
   "execution_count": null,
   "id": "5c6590e3-3270-49f1-b9ed-33b32015d07a",
   "metadata": {},
   "outputs": [],
   "source": [
    "import pandas as pd\n",
    "import numpy as np\n",
    "import statsmodels.api as sm\n",
    "\n",
    "df = pd.read_csv('C:\\\\Users\\\\brend\\\\Downloads\\\\MASTER DOC DRAFT WORK CSV.csv')\n",
    "\n",
    "# Clean and prepare the data\n",
    "# Convert Monthly_Visitor_Arrivals to numeric (remove commas)\n",
    "df['Monthly_Visitor_Arrivals'] = df['Monthly_Visitor_Arrivals'].replace({',': ''}, regex=True).astype(float)\n",
    "\n",
    "# Define month order mapping to ensure correct chronological sorting\n",
    "month_order = {\"Jan.\": 1, \"Feb.\": 2, \"Mar.\": 3, \"Apr.\": 4, \"May\": 5, \n",
    "               \"Jun.\": 6, \"Jul.\": 7, \"Aug.\": 8, \"Sep.\": 9, \"Oct.\": 10, \n",
    "               \"Nov.\": 11, \"Dec.\": 12}"
   ]
  },
  {
   "cell_type": "markdown",
   "id": "39690568-e917-428b-8b66-31567c10c937",
   "metadata": {},
   "source": [
    "#### 2. Perform disaggregation for each country separately"
   ]
  },
  {
   "cell_type": "code",
   "execution_count": null,
   "id": "d572e506-5cc2-4654-b1c7-1f3d4cdb963d",
   "metadata": {},
   "outputs": [],
   "source": [
    "result_dfs = []  # to collect processed DataFrames for each country\n",
    "for country, cdf in df.groupby('Country/Area'):\n",
    "    cdf = cdf.copy()"
   ]
  },
  {
   "cell_type": "markdown",
   "id": "9642186f-23e7-432f-9101-e1e110914bbe",
   "metadata": {},
   "source": [
    "#### 3. Aggregate monthly data for regression (one row per month with summed indicators)"
   ]
  },
  {
   "cell_type": "code",
   "execution_count": null,
   "id": "f3acf892-4d4d-4411-aece-07a0e63488c8",
   "metadata": {},
   "outputs": [],
   "source": [
    "    monthly_data = cdf.groupby(['Year', 'Month']).agg(\n",
    "        Monthly_Total=('Monthly_Visitor_Arrivals', 'sum'),\n",
    "        Holiday_weeks=('Publichol_Top6', 'sum'),        # count of holiday weeks in the month\n",
    "        Proxy_total=('Proxy_Trend_data', 'sum')         # sum of proxy trend data in the month\n",
    "    ).reset_index()\n",
    "\n",
    "# Sort by Year and Month for chronological order\n",
    "    monthly_data['Month_num'] = monthly_data['Month'].map(month_order)\n",
    "    monthly_data.sort_values(['Year', 'Month_num'], inplace=True)\n",
    "    \n",
    "# Fit OLS regression: Monthly_Total ~ Holiday_weeks + Proxy_total (with intercept)\n",
    "    if len(monthly_data) >= 3:  # ensure enough data points to fit 3 parameters (intercept, b1, b2)\n",
    "        X = sm.add_constant(monthly_data[['Holiday_weeks', 'Proxy_total']])\n",
    "        y = monthly_data['Monthly_Total']\n",
    "        ols_model = sm.OLS(y, X).fit()\n",
    "# Regression coefficients\n",
    "        const, b1, b2 = ols_model.params['const'], ols_model.params['Holiday_weeks'], ols_model.params['Proxy_total']\n",
    "    else:\n",
    "# If not enough data points to regress, use a simple fallback (equal or proxy-based distribution)\n",
    "        const, b1, b2 = 0.0, 0.0, 1.0  # this will use Proxy_Trend_data as the weight"
   ]
  },
  {
   "cell_type": "markdown",
   "id": "020356a8-5fe7-4b65-9a74-80ec68d83fb6",
   "metadata": {},
   "source": [
    "#### 4. Compute weekly predicted values using the regression coefficients"
   ]
  },
  {
   "cell_type": "code",
   "execution_count": null,
   "id": "3e1b852d-965f-43a0-a1b2-ce8f09c97183",
   "metadata": {},
   "outputs": [],
   "source": [
    "# Distribute the intercept evenly across 4 weeks (const/4 each week)\n",
    "    cdf['pred_week'] = (const / 4.0) + (b1 * cdf['Publichol_Top6']) + (b2 * cdf['Proxy_Trend_data'])"
   ]
  },
  {
   "cell_type": "markdown",
   "id": "bd8715fa-66dc-40ab-9fc7-86aa70343c6b",
   "metadata": {},
   "source": [
    "#### 5. Scale weekly predictions to match the monthly totals"
   ]
  },
  {
   "cell_type": "code",
   "execution_count": null,
   "id": "eca4ccc8-4f64-44ab-9658-c00a3402a4e6",
   "metadata": {},
   "outputs": [],
   "source": [
    "# Sum of predictions per month:\n",
    "    cdf['pred_month_sum'] = cdf.groupby(['Year', 'Month'])['pred_week'].transform('sum')\n",
    "   \n",
    "# Monthly total for each group (same value repeated for the group's rows)\n",
    "    cdf['monthly_total_val'] = cdf.groupby(['Year', 'Month'])['Monthly_Visitor_Arrivals'].transform('sum')\n",
    "    \n",
    "# Scale factor = actual total / predicted sum, then multiply each weekly pred\n",
    "    cdf['scaled_week'] = cdf['pred_week'] * (cdf['monthly_total_val'] / cdf['pred_month_sum'])"
   ]
  },
  {
   "cell_type": "markdown",
   "id": "8cd8d3e9-3ad5-4d33-8473-b7cec9b99fac",
   "metadata": {},
   "source": [
    "#### 6. Handle negative weekly values by setting to 0 and redistributing the difference"
   ]
  },
  {
   "cell_type": "code",
   "execution_count": null,
   "id": "51db4523-1bbd-414d-b51a-c7bc8874e82a",
   "metadata": {},
   "outputs": [],
   "source": [
    "    cdf['adj_week'] = cdf['scaled_week'].copy()\n",
    "    for (year, month), group in cdf.groupby(['Year', 'Month']):\n",
    "        weekly_vals = group['adj_week'].values\n",
    "        if (weekly_vals < 0).any():\n",
    "            total = group['monthly_total_val'].iloc[0]  # actual monthly total for this group\n",
    "            neg_sum = -weekly_vals[weekly_vals < 0].sum()  # total amount of negative values (as positive)\n",
    "# Set negative estimates to 0\n",
    "            weekly_vals[weekly_vals < 0] = 0.0\n",
    "# Reduce the other weeks by the proportional amount to keep sum = total\n",
    "            if weekly_vals.sum() > 0:\n",
    "                weekly_vals = weekly_vals - (weekly_vals / weekly_vals.sum()) * neg_sum\n",
    "            else:\n",
    "# If all weeks were zero (edge case), just split total evenly\n",
    "                weekly_vals[:] = total / len(weekly_vals)\n",
    "# Write the adjusted values back\n",
    "            cdf.loc[group.index, 'adj_week'] = weekly_vals"
   ]
  },
  {
   "cell_type": "markdown",
   "id": "6f4f3c6a-0907-4139-9c79-ed55eec51e7c",
   "metadata": {},
   "source": [
    "#### 7. Applying a business rule to enforce holiday week ≥30% more than non-holiday weeks constraint\n"
   ]
  },
  {
   "cell_type": "code",
   "execution_count": null,
   "id": "c41c5c33-392f-4acb-89de-24e88ed3ee31",
   "metadata": {},
   "outputs": [],
   "source": [
    "    cdf['Weekly_Visitor_Arrivals'] = cdf['adj_week'].copy()  # start from the adjusted values\n",
    "    for (year, month), group in cdf.groupby(['Year', 'Month']):\n",
    "        vals = group['Weekly_Visitor_Arrivals'].values\n",
    "        hol_mask = group['Publichol_Top6'].values.astype(bool)   # True for holiday weeks\n",
    "        non_mask = ~hol_mask                                     # True for non-holiday weeks\n",
    "        if hol_mask.any() and non_mask.any():\n",
    "# Iteratively adjust until holiday condition is met\n",
    "            for _ in range(10):  # loop safeguard (max 10 iterations)\n",
    "# Find smallest holiday week and largest non-holiday week\n",
    "                hol_vals = vals[hol_mask]\n",
    "                non_vals = vals[non_mask]\n",
    "                if hol_vals.min() >= 1.3 * non_vals.max():\n",
    "                    break  # condition satisfied\n",
    "# Determine required increase for the smallest holiday week\n",
    "                min_h_idx = hol_mask.nonzero()[0][hol_vals.argmin()]  # index in 'vals' of min holiday week\n",
    "                required = 1.3 * non_vals.max() - hol_vals.min()\n",
    "# Increase the smallest holiday week\n",
    "                vals[min_h_idx] += required\n",
    "# Decrease non-holiday weeks proportionally to keep the total the same\n",
    "                non_total = non_vals.sum()\n",
    "                if non_total > 0:\n",
    "# Subtract the required amount proportionally from each non-holiday week\n",
    "                    vals[non_mask] -= (vals[non_mask] / non_total) * required\n",
    "# If any value went negative due to adjustment, set it to 0 (should not usually happen)\n",
    "                    vals[vals < 0] = 0.0\n",
    "# Update the group values in the DataFrame\n",
    "            cdf.loc[group.index, 'Weekly_Visitor_Arrivals'] = vals\n",
    "    \n",
    "# Collect the processed country DataFrame\n",
    "    result_dfs.append(cdf)\n",
    "\n",
    "# Concatenate results for all countries\n",
    "result_df = pd.concat(result_dfs, ignore_index=True)"
   ]
  },
  {
   "cell_type": "markdown",
   "id": "b64440cf-e559-4218-be8e-c61849926433",
   "metadata": {},
   "source": [
    "#### 8. Save the final dataset with updated weekly values to a new CSV file"
   ]
  },
  {
   "cell_type": "code",
   "execution_count": null,
   "id": "3407ccd6-1d68-4222-ad84-82dfe451a235",
   "metadata": {},
   "outputs": [],
   "source": [
    "result_columns = ['Country/Area', 'Year', 'Month', 'Monthly_Visitor_Arrivals',\n",
    "                  'Week_Category', 'Publichol_Top6', 'Proxy_Trend_data', 'Weekly_Visitor_Arrivals']\n",
    "result_df[result_columns].to_csv('C:\\\\Users\\\\brend\\\\Downloads\\\\MASTER DOC DRAFT WORK CSV_UPDATED.csv', index=False)\n",
    "\n",
    "print(\"Disaggregation complete. Results saved to 'weekly_disaggregated_output.csv'.\")"
   ]
  }
 ],
 "metadata": {
  "kernelspec": {
   "display_name": "Python 3 (ipykernel)",
   "language": "python",
   "name": "python3"
  },
  "language_info": {
   "codemirror_mode": {
    "name": "ipython",
    "version": 3
   },
   "file_extension": ".py",
   "mimetype": "text/x-python",
   "name": "python",
   "nbconvert_exporter": "python",
   "pygments_lexer": "ipython3",
   "version": "3.12.7"
  }
 },
 "nbformat": 4,
 "nbformat_minor": 5
}
